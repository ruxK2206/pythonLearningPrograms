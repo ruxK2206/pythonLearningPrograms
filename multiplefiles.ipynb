{
 "cells": [
  {
   "cell_type": "code",
   "execution_count": 1,
   "metadata": {},
   "outputs": [
    {
     "name": "stdout",
     "output_type": "stream",
     "text": [
      "Hello\n"
     ]
    }
   ],
   "source": [
    "print(\"Hello\")"
   ]
  },
  {
   "cell_type": "code",
   "execution_count": 2,
   "metadata": {},
   "outputs": [],
   "source": [
    "r = int(input(\"Enter the Number\"));\n",
    "print(\"Square of \", r ,\"is \",r*r);"
   ]
  },
  {
   "cell_type": "code",
   "execution_count": null,
   "metadata": {},
   "outputs": [],
   "source": [
    "rad = int(input(\"\\nEnter the radius of cylinder\\n\"));\n",
    "dia = int(input(\"Enter the diameter of cylinder\\n\"));\n",
    "print(\"volume of the cylinder is\",3.14*rad*rad*dia,\"\\n\" );"
   ]
  },
  {
   "cell_type": "code",
   "execution_count": null,
   "metadata": {},
   "outputs": [],
   "source": [
    "len = int(input(\"\\nEnter the length of rectangle\\n\"));\n",
    "wid = int(input(\"Enter the width of rectangle\\n\"));\n",
    "print(\"Area of the rectangle is\",len*wid,\"\\n\" );"
   ]
  },
  {
   "cell_type": "code",
   "execution_count": null,
   "metadata": {},
   "outputs": [],
   "source": [
    "b = int(input(\"\\nEnter the base of rectangle\\n\"));\n",
    "h = int(input(\"Enter the height of triangle\\n\"));\n",
    "print(\"area of the triangle is\",1/2*b*h,\"\\n\" );"
   ]
  },
  {
   "cell_type": "code",
   "execution_count": null,
   "metadata": {},
   "outputs": [],
   "source": [
    "a = int(input(\"\\nfirst number\\n\"));\n",
    "b = int(input(\"second num\\n\"));\n",
    "print(\"before swap\",a,\" \",b,\" after swap \",b,\" \",a,\" \\n\" );"
   ]
  },
  {
   "cell_type": "code",
   "execution_count": null,
   "metadata": {},
   "outputs": [],
   "source": [
    "n = int(input (\"Enter a num\\n\"));\n",
    "if n/2 == 0:\n",
    "   print(\"Even\\n\")\n",
    "else:\n",
    "   print(\"odd\\n\")   "
   ]
  },
  {
   "cell_type": "code",
   "execution_count": null,
   "metadata": {},
   "outputs": [],
   "source": [
    "num = float(input(\"Enter a number\\n\"));   \n",
    "print(\"abs value is\",abs(num))"
   ]
  },
  {
   "cell_type": "code",
   "execution_count": null,
   "metadata": {},
   "outputs": [],
   "source": [
    "x = int(input(\"Enter first num\\n\"));\n",
    "y = int(input(\"Enter second num\\n\"));\n",
    "z = int(input(\"Enter third num\\n\"));\n",
    "if x<y:\n",
    "   m = y;\n",
    "else:\n",
    "   m = x;\n",
    "    \n",
    "if m<z:\n",
    "   m = z;\n",
    "else:    \n",
    "   m = m;\n",
    "    \n",
    "print(\"The greater num is \",m); "
   ]
  },
  {
   "cell_type": "code",
   "execution_count": null,
   "metadata": {},
   "outputs": [],
   "source": [
    "y = int(input(\"Enter the year\\n\"));   \n",
    "if y%2 == 0:\n",
    "   print(\"leap year\\n\");\n",
    "else:    \n",
    "   print(\"Not a leap year\\n\") "
   ]
  },
  {
   "cell_type": "code",
   "execution_count": null,
   "metadata": {},
   "outputs": [],
   "source": []
  }
 ],
 "metadata": {
  "kernelspec": {
   "display_name": "Python 3",
   "language": "python",
   "name": "python3"
  },
  "language_info": {
   "codemirror_mode": {
    "name": "ipython",
    "version": 3
   },
   "file_extension": ".py",
   "mimetype": "text/x-python",
   "name": "python",
   "nbconvert_exporter": "python",
   "pygments_lexer": "ipython3",
   "version": "3.12.1"
  }
 },
 "nbformat": 4,
 "nbformat_minor": 2
}
